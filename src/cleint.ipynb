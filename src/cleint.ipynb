{
 "cells": [
  {
   "cell_type": "code",
   "execution_count": 1,
   "metadata": {},
   "outputs": [],
   "source": [
    "from typing import Dict, Set, List, Union, Tuple, Any\n",
    "\n",
    "from torch.utils.data import DataLoader\n",
    "from utils.gptdataset import create_dataloader_v1 "
   ]
  },
  {
   "cell_type": "code",
   "execution_count": 2,
   "metadata": {},
   "outputs": [],
   "source": [
    "txt_data:str = \"\"\"To Sherlock Holmes she is always the woman. I have seldom heard him\n",
    "     mention her under any other name. In his eyes she eclipses and\n",
    "     predominates the whole of her sex. It was not that he felt any\n",
    "     emotion akin to love for Irene Adler. All emotions, and that one\n",
    "     particularly, were abhorrent to his cold, precise but admirably\n",
    "     balanced mind. He was, I take it, the most perfect reasoning and\n",
    "     observing machine that the world has seen, but as a lover he would\n",
    "     have placed himself in a false position. He never spoke of the softer\n",
    "     passions, save with a gibe and a sneer. They were admirable things\n",
    "     for the observer--excellent for drawing the veil from men's motives\n",
    "     and actions. But for the trained reasoner to admit such intrusions\n",
    "     into his own delicate and finely adjusted temperament was to\n",
    "     introduce a distracting factor which might throw a doubt upon all his\n",
    "     mental results. Grit in a sensitive instrument, or a crack in one of\n",
    "     his own high-power lenses, would not be more disturbing than a strong\n",
    "     emotion in a nature such as his. And yet there was but one woman to\n",
    "     him, and that woman was the late Irene Adler, of dubious and\n",
    "     questionable memory.\"\"\"\n",
    "    "
   ]
  },
  {
   "cell_type": "code",
   "execution_count": 3,
   "metadata": {},
   "outputs": [
    {
     "ename": "AttributeError",
     "evalue": "'GPTDatasetV1' object has no attribute 'copy'",
     "output_type": "error",
     "traceback": [
      "\u001b[0;31m---------------------------------------------------------------------------\u001b[0m",
      "\u001b[0;31mAttributeError\u001b[0m                            Traceback (most recent call last)",
      "Cell \u001b[0;32mIn[3], line 1\u001b[0m\n\u001b[0;32m----> 1\u001b[0m dl \u001b[38;5;241m=\u001b[39m \u001b[43mcreate_dataloader_v1\u001b[49m\u001b[43m(\u001b[49m\u001b[43mtxt_data\u001b[49m\u001b[43m)\u001b[49m\n",
      "File \u001b[0;32m~/Documents/projects/LLM/src/utils/gptdataset.py:45\u001b[0m, in \u001b[0;36mcreate_dataloader_v1\u001b[0;34m(txt, batch_size, max_length, stride, shuffle, drop_last)\u001b[0m\n\u001b[1;32m     42\u001b[0m tokenizer \u001b[38;5;241m=\u001b[39m tiktoken\u001b[38;5;241m.\u001b[39mget_encoding(\u001b[38;5;124m\"\u001b[39m\u001b[38;5;124mgpt2\u001b[39m\u001b[38;5;124m\"\u001b[39m)\n\u001b[1;32m     43\u001b[0m dataset \u001b[38;5;241m=\u001b[39m GPTDatasetV1(txt, tokenizer, max_length, stride)\n\u001b[1;32m     44\u001b[0m dl \u001b[38;5;241m=\u001b[39m DataLoader(\n\u001b[0;32m---> 45\u001b[0m         \u001b[43mdataset\u001b[49m\u001b[38;5;241;43m.\u001b[39;49m\u001b[43mcopy\u001b[49m(),\n\u001b[1;32m     46\u001b[0m         batch_size\u001b[38;5;241m=\u001b[39mbatch_size, \n\u001b[1;32m     47\u001b[0m         shuffle\u001b[38;5;241m=\u001b[39mshuffle, \n\u001b[1;32m     48\u001b[0m         drop_last\u001b[38;5;241m=\u001b[39mdrop_last)\n\u001b[1;32m     49\u001b[0m \u001b[38;5;28;01mreturn\u001b[39;00m dl\n",
      "\u001b[0;31mAttributeError\u001b[0m: 'GPTDatasetV1' object has no attribute 'copy'"
     ]
    }
   ],
   "source": [
    "dl = create_dataloader_v1(txt_data, drop_last=False)"
   ]
  },
  {
   "cell_type": "code",
   "execution_count": 28,
   "metadata": {},
   "outputs": [],
   "source": [
    "for i, j in dl:\n",
    "    print(i)\n",
    "    print(j)\n",
    "    break"
   ]
  },
  {
   "cell_type": "code",
   "execution_count": null,
   "metadata": {},
   "outputs": [],
   "source": []
  },
  {
   "cell_type": "code",
   "execution_count": null,
   "metadata": {},
   "outputs": [],
   "source": []
  }
 ],
 "metadata": {
  "kernelspec": {
   "display_name": "venv",
   "language": "python",
   "name": "python3"
  },
  "language_info": {
   "codemirror_mode": {
    "name": "ipython",
    "version": 3
   },
   "file_extension": ".py",
   "mimetype": "text/x-python",
   "name": "python",
   "nbconvert_exporter": "python",
   "pygments_lexer": "ipython3",
   "version": "3.12.3"
  }
 },
 "nbformat": 4,
 "nbformat_minor": 2
}
